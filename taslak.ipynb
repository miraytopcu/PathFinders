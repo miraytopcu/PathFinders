{
 "cells": [
  {
   "cell_type": "markdown",
   "metadata": {},
   "source": [
    "# Bu sitelerin API var mı araştır:\n",
    "- Trivago yoksa Booking(otel için)                      https://developer.trivago.com/conversiontracking/conversion-api.html\n",
    "- THY yoksa Pegasus(uçak için)                          https://developer.turkishairlines.com/api-catalog\n",
    "- Obilet (otobüs için) !!!Hiçbir otobüs firması için API bulamadım\n",
    "- Maps (harita/şehirler arası uzaklık vs için)          https://developers.google.com/maps/documentation?hl=tr "
   ]
  },
  {
   "cell_type": "code",
   "execution_count": null,
   "metadata": {},
   "outputs": [],
   "source": [
    "import random\n",
    "import datetime\n",
    "import numpy as np\n",
    "import requests\n",
    "import pandas as pd\n",
    "\n",
    "\"\"\"\n",
    "NOTLAR:\n",
    "- Kaldiğin şehre göre fiyat artip azalabilecek.\n",
    "- Elimde harcayabileceğim max şu kadra param var, bana min fiyata yapabileceğim tatilleri listeler misin\n",
    "\"\"\"\n",
    "\n",
    "class musteri():\n",
    "    def _init_(self,b):\n",
    "        self.b = b\n",
    "    \n",
    "    def kriterler():\n",
    "        # input al: kişi sayısı, bütçe aralığı, kalkış/varış noktaları\n",
    "        # zorunlu olmayan input: lokasyonda kararsızsa seyahat türü seçebilir (deniz, lezzet, kültürel)\n",
    "        # ekstra hizmet: rehber ister mi\n",
    "        pass\n",
    "    \n",
    "    def konaklama():\n",
    "        # otel, airbnb, kamp vs\n",
    "        # seçenekler arasında fiyat farkı uygulanacak!\n",
    "        pass\n",
    "    \n",
    "    def ulasim():\n",
    "        # uçak ve otobüs öncelikli\n",
    "        # tren ve araba opsiyonel, vakit kalırsa\n",
    "        pass\n",
    "        \n",
    "    def fiyat_hesaplayici(): \n",
    "        # kampanya, ödeme yöntemi, şehir farkı gibi bütün fonksiyonların sonucu \n",
    "        # en son burada toplanıp kullanıcıya output versin\n",
    "        pass\n",
    "        \n",
    "    def odeme_yontemi():\n",
    "        # kredi kartı/ nakit/ havale\n",
    "        # kredi kartı seçilirse komisyon al, taksit seçeneği gelsin\n",
    "        pass\n",
    "    def odeme_yapma():\n",
    "        # print(\"ödeme yapıldı, iyi tatiller vs\")\n",
    "        pass\n",
    "        \n",
    "    def kampanya():\n",
    "        # random 2-3 tur paketine kampanya yap kullanıcı ona denk gelirse indirim \n",
    "        pass \n",
    "              \n",
    "\n",
    "# SORU!! Yurtiçi diye düşündük ama bulduğumuz APIler yurtdışı için geçerliyse/daha uygunsa planda değişiklik yapar mıyız\n",
    "\n",
    "class yurtici(musteri):\n",
    "    def _init_(self,b,a):\n",
    "        super()._init_(b)\n",
    "        self.a = a\n",
    "\n",
    "      \n",
    "class yurtdisi(musteri):\n",
    "    def _init_(self,b,a):\n",
    "        super()._init_(b)\n",
    "        self.a = a"
   ]
  },
  {
   "cell_type": "markdown",
   "metadata": {},
   "source": [
    "1-input istanbul\n",
    "\n",
    "istanbuldaki oteller:\n",
    "1 ad/fiyat\n",
    "2\n",
    "3\n",
    "input hangisini istersin (1-2-3)\n",
    "\n",
    "2-(kategori)hangi kategori\n",
    "lezzet\n",
    "adana urfa bursa\n",
    "jsondan bu illeri getirecek\n",
    "bunlardan hangisi (input)\n",
    "adana\n",
    "1\n",
    "2\n",
    "3\n",
    "hangi oteli tercih edersin"
   ]
  },
  {
   "cell_type": "code",
   "execution_count": 6,
   "metadata": {},
   "outputs": [
    {
     "name": "stdout",
     "output_type": "stream",
     "text": [
      "Adana için mevcut otel seçenekleri: \n",
      "Fiyatlar değişiklik ve güncelleme gösterebilir!!!\n",
      "\n",
      "Otel: Şehri Saray : Reşatbey Mahallesi 62005 Sokak No:23 Seyhan,  01140,  Adana,  Türkiye\n",
      "Telefon: +90(322)4582121 \n",
      "Fiyat: 1300.0 TL\n",
      "Otel: Surmeli Adana Hotel : Özler Caddesi No 49,  01060,  Adana,  Türkiye\n",
      "Telefon: +90(322)3523600 \n",
      "Fiyat: 1962.0 TL\n",
      "Otel: Sirin Park Hotel : Turhan Cemal Beriker Bulvarı 17/A,  01010,  Adana,  Türkiye\n",
      "Telefon: +90(322)3630707 \n",
      "Fiyat: 3000.0 TL\n"
     ]
    }
   ],
   "source": [
    "import openpyxl\n",
    "\n",
    "# Excel dosyasının yolunu belirtin\n",
    "dosya_yolu = 'PathFinders_oteller.xlsx'\n",
    "\n",
    "# Excel dosyasını ve sayfasını yükleyin\n",
    "kitap = openpyxl.load_workbook(dosya_yolu)\n",
    "sayfa = kitap.active  # Aktif sayfa seçili hale gelir\n",
    "\n",
    "# Kullanıcıdan şehir girişi alın\n",
    "aranan_sehir = input(\"Tatil yapmak istediğiniz şehri girin: \")\n",
    "\n",
    "# Şehir için uygun otelleri ve fiyatlarını depolamak için liste oluşturun\n",
    "oteller = []\n",
    "\n",
    "# Satır sayısını belirleyin\n",
    "satir_sayisi = sayfa.max_row\n",
    "\n",
    "# Verileri çekmek için bir döngü yazın\n",
    "for i in range(2, satir_sayisi + 1):  # Satırlar arasında döngü (başlık satırı atlanarak)\n",
    "    sehir = sayfa.cell(i, 2).value  # 2. sütundaki şehir ismini al\n",
    "    \n",
    "    # Şehir eşleşiyorsa otelleri al\n",
    "    if sehir.lower() == aranan_sehir.lower():\n",
    "        for j in range(3, 6):  # 3. sütundan 5. sütuna kadar oteller\n",
    "            otel = sayfa.cell(i, j).value  # Otel ismini al\n",
    "            fiyat = sayfa.cell(i, j + 3).value  # Aynı otelin fiyatını al (3 sütun sonrası)\n",
    "            \n",
    "            # Otel ve fiyatı listeye ekle\n",
    "            oteller.append((otel, fiyat))\n",
    "    \n",
    "    # İstanbul için 3 otel bulduysak döngüden çık\n",
    "    if len(oteller) >= 3:\n",
    "        break\n",
    "\n",
    "# İstanbul için üç otel bulunduğunda sonucu yazdır\n",
    "if oteller:\n",
    "    print(f\"{aranan_sehir} için mevcut otel seçenekleri: \\nFiyatlar değişiklik ve güncelleme gösterebilir!!!\\n\")\n",
    "    for otel, fiyat in oteller[:3]:  # İlk 3 oteli yazdır\n",
    "        print(f\"Otel: {otel} \\nFiyat: {fiyat} TL\")\n",
    "else:\n",
    "    print(f\"{aranan_sehir} için mevcut otel bulunamadı.\")"
   ]
  },
  {
   "cell_type": "code",
   "execution_count": 11,
   "metadata": {},
   "outputs": [
    {
     "name": "stdout",
     "output_type": "stream",
     "text": [
      "['Zonguldak', 'İzmir', 'Aydın', 'Antalya', 'Düzce']\n"
     ]
    }
   ],
   "source": [
    "import json\n",
    "import random\n",
    "with open('cities_of_turkey.json', 'r', encoding='utf-8') as file:\n",
    "    veri = json.load(file)\n",
    "\n",
    "liste = []\n",
    "for i in veri:\n",
    "    if i[\"kategori\"] == \"Deniz\":\n",
    "        liste.append(i[\"name\"])\n",
    "\n",
    "randomlar = random.sample(liste, 5)\n",
    "print(randomlar)\n",
    "secim = input(\"hangi şehir: \")\n",
    "\n"
   ]
  }
 ],
 "metadata": {
  "kernelspec": {
   "display_name": "Python 3",
   "language": "python",
   "name": "python3"
  },
  "language_info": {
   "codemirror_mode": {
    "name": "ipython",
    "version": 3
   },
   "file_extension": ".py",
   "mimetype": "text/x-python",
   "name": "python",
   "nbconvert_exporter": "python",
   "pygments_lexer": "ipython3",
   "version": "3.12.3"
  }
 },
 "nbformat": 4,
 "nbformat_minor": 2
}
