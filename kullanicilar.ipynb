{
 "cells": [
  {
   "cell_type": "code",
   "execution_count": 5,
   "metadata": {},
   "outputs": [
    {
     "name": "stdout",
     "output_type": "stream",
     "text": [
      "Ahmet Demirbaş, İstanbul şehrinde yaşıyor, otobüs ile Antalya tatil destinasyonuna 10 saatte gidecek.\n",
      "Ömer Oral, İzmir şehrinde yaşıyor, uçak ile Bodrum tatil destinasyonuna 1.5 saatte gidecek.\n"
     ]
    }
   ],
   "source": [
    "class Kullanicilar:\n",
    "    def __init__(self, isim, soyisim, yasadigi_sehir, tatil_yeri):\n",
    "        self.isim = isim\n",
    "        self.soyisim = soyisim\n",
    "        self.yasadigi_sehir = yasadigi_sehir\n",
    "        self.tatil_yeri = tatil_yeri\n",
    "\n",
    "    def __str__(self):\n",
    "        return f\"{self.isim} {self.soyisim}, {self.yasadigi_sehir} şehrinde yaşıyor ve {self.tatil_yeri} tatil destinasyonunu seçti.\"\n",
    "\n",
    "    def guncelle_tatil_destinasyonu(self, yeni_destinasyon):\n",
    "        self.tatil_destinasyonu = yeni_destinasyon\n",
    "\n",
    "class OtobusKullanici(Kullanicilar):\n",
    "    def __init__(self, isim, soyisim, yasadigi_sehir, tatil_yeri, yolculuk_suresi):\n",
    "        super().__init__(isim, soyisim, yasadigi_sehir, tatil_yeri)\n",
    "        self.yolculuk_suresi = yolculuk_suresi  # Otobüs ile yolculuk süresi (saat olarak)\n",
    "\n",
    "    def __str__(self):\n",
    "        return f\"{self.isim} {self.soyisim}, {self.yasadigi_sehir} şehrinde yaşıyor, otobüs ile {self.tatil_yeri} tatil destinasyonuna {self.yolculuk_suresi} saatte gidecek.\"\n",
    "\n",
    "\n",
    "class UcakKullanici(Kullanicilar):\n",
    "    def __init__(self, isim, soyisim, yasadigi_sehir, tatil_yeri, ucus_suresi):\n",
    "        super().__init__(isim, soyisim, yasadigi_sehir, tatil_yeri)\n",
    "        self.ucus_suresi = ucus_suresi  # Uçak ile uçuş süresi (saat olarak)\n",
    "\n",
    "    def __str__(self):\n",
    "        return f\"{self.isim} {self.soyisim}, {self.yasadigi_sehir} şehrinde yaşıyor, uçak ile {self.tatil_yeri} tatil destinasyonuna {self.ucus_suresi} saatte gidecek.\"\n",
    "    \n",
    "# Otobüs ile seyahat eden bir kullanıcı\n",
    "otobus_kullanici = OtobusKullanici(\"Ahmet\", \"Demirbaş\", \"İstanbul\", \"Antalya\", 10)\n",
    "print(otobus_kullanici)\n",
    "\n",
    "# Uçak ile seyahat eden bir kullanıcı\n",
    "ucak_kullanici = UcakKullanici(\"Ömer\", \"Oral\", \"İzmir\", \"Bodrum\", 1.5)\n",
    "print(ucak_kullanici)\n",
    "\n",
    "\n"
   ]
  }
 ],
 "metadata": {
  "kernelspec": {
   "display_name": "Python 3",
   "language": "python",
   "name": "python3"
  },
  "language_info": {
   "codemirror_mode": {
    "name": "ipython",
    "version": 3
   },
   "file_extension": ".py",
   "mimetype": "text/x-python",
   "name": "python",
   "nbconvert_exporter": "python",
   "pygments_lexer": "ipython3",
   "version": "3.12.3"
  }
 },
 "nbformat": 4,
 "nbformat_minor": 2
}
