{
 "cells": [
  {
   "cell_type": "code",
   "execution_count": 2,
   "metadata": {},
   "outputs": [
    {
     "name": "stdout",
     "output_type": "stream",
     "text": [
      "Lütfen seyahat türünüzü seçin:\n",
      "1. Deniz Tatili\n",
      "2. Lezzet Turu\n",
      "3. Kültürel Gezi\n",
      "4. Kamp\n",
      "Seçtiğiniz seyahat türü: Kültürel Gezi\n"
     ]
    }
   ],
   "source": [
    "# Kullanıcıdan seyahat türü seçimi için input al\n",
    "def seyahat_turu_secimi():\n",
    "    print(\"Lütfen seyahat türünüzü seçin:\")\n",
    "    print(\"1. Deniz Tatili\")\n",
    "    print(\"2. Lezzet Turu\")\n",
    "    print(\"3. Kültürel Gezi\")\n",
    "    print(\"4. Kamp\")\n",
    "\n",
    "    secim = input(\"Seçiminizi girin (1-4): \")\n",
    "\n",
    "    if secim == '1':\n",
    "        return \"Deniz Tatili\"\n",
    "    elif secim == '2':\n",
    "        return \"Lezzet Turu\"\n",
    "    elif secim == '3':\n",
    "        return \"Kültürel Gezi\"\n",
    "    elif secim == '4':\n",
    "        return \"Kamp\"\n",
    "    else:\n",
    "        print(\"Geçersiz seçim! Lütfen tekrar deneyin.\")\n",
    "        return seyahat_turu_secimi()\n",
    "\n",
    "# Kullanıcıdan seyahat türünü seçmesini iste\n",
    "secili_seyahat_turu = seyahat_turu_secimi()\n",
    "print(f\"Seçtiğiniz seyahat türü: {secili_seyahat_turu}\")"
   ]
  },
  {
   "cell_type": "code",
   "execution_count": 4,
   "metadata": {},
   "outputs": [
    {
     "name": "stdout",
     "output_type": "stream",
     "text": [
      "Rastgele belirlenen şehirler: Mugla, Trabzon, Kapadokya, Izmir, İstanbul, Eskisehir, Ankara, Bursa, Antalya, Mardin\n",
      "İstanbul seçildiği için %15 indirim uygulanacak!\n",
      "İndirimli toplam fiyat: 8500.00 TL\n"
     ]
    }
   ],
   "source": [
    "import random\n",
    "\n",
    "# Rastgele 10 şehir belirle\n",
    "sehirler_listesi = [\"İstanbul\", \"Ankara\", \"Izmir\", \"Antalya\", \"Bursa\", \n",
    "                    \"Mugla\", \"Kapadokya\", \"Trabzon\", \"Eskisehir\", \"Mardin\"]\n",
    "\n",
    "rastgele_sehirler = random.sample(sehirler_listesi, 10)\n",
    "print(f\"Rastgele belirlenen şehirler: {', '.join(rastgele_sehirler)}\")\n",
    "\n",
    "# Kullanıcıdan şehir girmesini iste\n",
    "kullanici_sehri = input(\"Tatil yapmak istediğiniz şehri girin: \")\n",
    "\n",
    "# Kullanıcı şehri rastgele belirlenen şehirler arasında mı kontrol et\n",
    "if kullanici_sehri in rastgele_sehirler:\n",
    "    print(f\"{kullanici_sehri} seçildiği için %15 indirim uygulanacak!\")\n",
    "else:\n",
    "    print(f\"{kullanici_sehri} rastgele belirlenen şehirler arasında değil, indirim uygulanmayacak.\")\n",
    "\n",
    "# Örnek: Toplam fiyat üzerinden indirim uygulaması\n",
    "toplam_fiyat = 10000  # Örneğin 10.000 TL\n",
    "if kullanici_sehri in rastgele_sehirler:\n",
    "    indirimli_fiyat = toplam_fiyat * 0.85\n",
    "    print(f\"İndirimli toplam fiyat: {indirimli_fiyat:.2f} TL\")\n",
    "else:\n",
    "    print(f\"Toplam fiyat: {toplam_fiyat:.2f} TL\")\n"
   ]
  }
 ],
 "metadata": {
  "kernelspec": {
   "display_name": "base",
   "language": "python",
   "name": "python3"
  },
  "language_info": {
   "codemirror_mode": {
    "name": "ipython",
    "version": 3
   },
   "file_extension": ".py",
   "mimetype": "text/x-python",
   "name": "python",
   "nbconvert_exporter": "python",
   "pygments_lexer": "ipython3",
   "version": "3.11.3"
  }
 },
 "nbformat": 4,
 "nbformat_minor": 2
}
